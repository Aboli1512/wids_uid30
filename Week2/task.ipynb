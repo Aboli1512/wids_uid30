{
 "cells": [
  {
   "cell_type": "code",
   "execution_count": 6,
   "metadata": {},
   "outputs": [
    {
     "name": "stdout",
     "output_type": "stream",
     "text": [
      "(1797, 64)\n",
      "(1797,)\n"
     ]
    }
   ],
   "source": [
    "import numpy as np\n",
    "from sklearn.datasets import load_digits\n",
    "digits = load_digits()\n",
    " #check the shape of digits data\n",
    "print(digits.data.shape)\n",
    " #check the shape of digits target\n",
    "print(digits.target.shape)\n",
    " #let us use the linear regression used in the previous lab\n",
    " #N = digits.data.shape[0] #Number of data points\n",
    " #d = digits.data.shape[1] #Dimension of data points\n",
    "A = digits.data\n",
    " #In the following code, we create a NX1 vector of target labels\n",
    "y = 1.0*np.ones([A.shape[0],1])\n",
    "for i in range(digits.target.shape[0]):\n",
    "   y[i] = digits.target[i]"
   ]
  }
 ],
 "metadata": {
  "kernelspec": {
   "display_name": "Python 3",
   "language": "python",
   "name": "python3"
  },
  "language_info": {
   "codemirror_mode": {
    "name": "ipython",
    "version": 3
   },
   "file_extension": ".py",
   "mimetype": "text/x-python",
   "name": "python",
   "nbconvert_exporter": "python",
   "pygments_lexer": "ipython3",
   "version": "3.13.0"
  }
 },
 "nbformat": 4,
 "nbformat_minor": 2
}
