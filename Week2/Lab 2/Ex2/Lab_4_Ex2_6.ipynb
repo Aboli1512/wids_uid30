{
 "cells": [
  {
   "cell_type": "code",
   "execution_count": 1,
   "metadata": {},
   "outputs": [
    {
     "name": "stderr",
     "output_type": "stream",
     "text": [
      "Matplotlib created a temporary cache directory at C:\\Users\\Hp\\AppData\\Local\\Temp\\matplotlib-tuubeyce because the default path (C:\\Users\\Hp\\.matplotlib) is not a writable directory; it is highly recommended to set the MPLCONFIGDIR environment variable to a writable directory, in particular to speed up the import of Matplotlib and to better support multiprocessing.\n"
     ]
    }
   ],
   "source": [
    "import numpy as np\n",
    "import matplotlib.pyplot as plt\n",
    "from mpl_toolkits.mplot3d import Axes3D\n",
    "import time"
   ]
  },
  {
   "cell_type": "code",
   "execution_count": 2,
   "metadata": {},
   "outputs": [],
   "source": [
    "def f(x,y,t):\n",
    "    return 0.5*(t*(x**2) + (1+t)*(y**2) ) + (t**0.5)*x*y - x"
   ]
  },
  {
   "cell_type": "code",
   "execution_count": 3,
   "metadata": {},
   "outputs": [],
   "source": [
    "def df_dx(x,y,t) :\n",
    "    return t*(x) + (t**0.5)*y - 1\n",
    "\n",
    "def df_dy(x,y,t) :\n",
    "    return (t**0.5)*x + (1+t)*y"
   ]
  },
  {
   "cell_type": "code",
   "execution_count": 4,
   "metadata": {},
   "outputs": [],
   "source": [
    "\n",
    "def grad(x,y,t) :\n",
    "    grad_arr = np.array([df_dx(x,y,t), df_dy(x,y,t)])\n",
    "    return grad_arr\n",
    "\n"
   ]
  },
  {
   "cell_type": "code",
   "execution_count": 5,
   "metadata": {},
   "outputs": [],
   "source": [
    "def df2_d2x(x,y,t) :\n",
    "    return t\n",
    "\n",
    "def df2_d2y(x,y,t) :\n",
    "    return (1+t)\n",
    "\n",
    "def df2_dxy(x,y,t) :\n",
    "    return (t**0.5)\n"
   ]
  },
  {
   "cell_type": "code",
   "execution_count": 6,
   "metadata": {},
   "outputs": [],
   "source": [
    "def hess(x,y,t) :\n",
    "    return np.array([[df2_d2x(x,y,t) , df2_dxy(x,y,t)],[df2_dxy(x,y,t),df2_d2y(x,y,t)]])\n",
    "    "
   ]
  },
  {
   "cell_type": "code",
   "execution_count": 7,
   "metadata": {},
   "outputs": [],
   "source": [
    "def L2Norm(x,y,t) :\n",
    "    grad_x = df_dx(x,y,t);\n",
    "    grad_y = df_dy(x,y,t);\n",
    "    return np.sqrt(grad_x**2 + grad_y**2)\n"
   ]
  },
  {
   "cell_type": "code",
   "execution_count": 8,
   "metadata": {},
   "outputs": [],
   "source": [
    "def cg(x_start , y_start , t) :\n",
    "\n",
    "    x = x_start\n",
    "    y = y_start\n",
    "\n",
    "    r = -grad(x,y,t)\n",
    "    d = r\n",
    "    count = 0\n",
    "    norm = L2Norm(x,y,t)\n",
    "    TLevel = 10**(-8)\n",
    "\n",
    "    f_values = []\n",
    "\n",
    "    while(norm > TLevel) :\n",
    "        r_present = r\n",
    "\n",
    "        alpha = np.dot(r,r) / np.dot(d , np.dot(hess(x,y,t),d))\n",
    "\n",
    "        x = x + alpha*d[0]\n",
    "        y = y + alpha*d[1]\n",
    "        \n",
    "\n",
    "        f_values.append(f(x, y,t))\n",
    "\n",
    "        norm = L2Norm(x,y,t)\n",
    "        count = count + 1\n",
    "\n",
    "        r_next = -grad(x,y,t)\n",
    "\n",
    "        beta = np.dot(r_next,r_next) / np.dot(r_present,r_present)\n",
    "        d = beta*d + r\n",
    "\n",
    "        r = r_next   \n",
    "\n",
    "    print(f\"Iterations: {count}\")\n",
    "    print(x,y,f(x,y,t))\n",
    "    \n",
    "    return x,y,f(x,y,t),f_values\n",
    "\n"
   ]
  },
  {
   "cell_type": "code",
   "execution_count": 9,
   "metadata": {},
   "outputs": [],
   "source": [
    "def gradient_descent(x_start , y_start ,t, alpha_k) :\n",
    "\n",
    "    x = x_start\n",
    "    y = y_start\n",
    "\n",
    "    count = 0\n",
    "    norm = L2Norm(x,y,t)\n",
    "    TLevel = 10**(-8)\n",
    "\n",
    "    f_values = []\n",
    "\n",
    "    while(norm > TLevel) :\n",
    "        grad_x = df_dx(x,y,t)\n",
    "        grad_y = df_dy(x,y,t)\n",
    "\n",
    "        x = x - alpha_k*grad_x\n",
    "        y = y - alpha_k*grad_y\n",
    "\n",
    "\n",
    "        norm = L2Norm(x,y,t)\n",
    "        count = count + 1\n",
    "       \n",
    "        f_values.append(f(x, y,t))\n",
    "\n",
    "    print(f\"Iterations: {count}\")\n",
    "    print(x,y,f(x,y,t))\n",
    "    \n",
    "   "
   ]
  },
  {
   "cell_type": "code",
   "execution_count": 10,
   "metadata": {},
   "outputs": [],
   "source": [
    "x_range = np.arange(-150,150,0.1)\n",
    "y_range = np.arange(-150,150,0.1)\n",
    "\n",
    "X,Y = np.meshgrid(x_range,y_range)\n",
    "\n",
    "t = [10**-1 , 10**-2 , 10**-3 , 10**-4 , 10**-5]\n",
    "\n",
    "x_start , y_start = 5 , 3\n",
    "alpha_k = 2.0 / (7.0 + (5**0.5))\n"
   ]
  },
  {
   "cell_type": "code",
   "execution_count": 11,
   "metadata": {},
   "outputs": [
    {
     "ename": "MemoryError",
     "evalue": "",
     "output_type": "error",
     "traceback": [
      "\u001b[1;31m---------------------------------------------------------------------------\u001b[0m",
      "\u001b[1;31mMemoryError\u001b[0m                               Traceback (most recent call last)",
      "Cell \u001b[1;32mIn[11], line 2\u001b[0m\n\u001b[0;32m      1\u001b[0m \u001b[38;5;28;01mfor\u001b[39;00m t \u001b[38;5;129;01min\u001b[39;00m t :\n\u001b[1;32m----> 2\u001b[0m     x_cg ,y_cg ,f_cg, f_val_cg \u001b[38;5;241m=\u001b[39m \u001b[43mcg\u001b[49m\u001b[43m(\u001b[49m\u001b[43mx_start\u001b[49m\u001b[43m \u001b[49m\u001b[43m,\u001b[49m\u001b[43m \u001b[49m\u001b[43my_start\u001b[49m\u001b[43m \u001b[49m\u001b[43m,\u001b[49m\u001b[43mt\u001b[49m\u001b[43m)\u001b[49m\n\u001b[0;32m      3\u001b[0m     alpha_k \u001b[38;5;241m=\u001b[39m \u001b[38;5;241m2.0\u001b[39m \u001b[38;5;241m/\u001b[39m (\u001b[38;5;241m3.0\u001b[39m \u001b[38;5;241m-\u001b[39m (\u001b[38;5;241m9\u001b[39m\u001b[38;5;241m-\u001b[39m(\u001b[38;5;241m4\u001b[39m\u001b[38;5;241m*\u001b[39m(t\u001b[38;5;241m*\u001b[39m\u001b[38;5;241m*\u001b[39m\u001b[38;5;241m2\u001b[39m)))\u001b[38;5;241m*\u001b[39m\u001b[38;5;241m*\u001b[39m\u001b[38;5;241m0.5\u001b[39m)\n\u001b[0;32m      4\u001b[0m     gradient_descent(x_start , y_start ,t, alpha_k)\n",
      "Cell \u001b[1;32mIn[8], line 23\u001b[0m, in \u001b[0;36mcg\u001b[1;34m(x_start, y_start, t)\u001b[0m\n\u001b[0;32m     19\u001b[0m x \u001b[38;5;241m=\u001b[39m x \u001b[38;5;241m+\u001b[39m alpha\u001b[38;5;241m*\u001b[39md[\u001b[38;5;241m0\u001b[39m]\n\u001b[0;32m     20\u001b[0m y \u001b[38;5;241m=\u001b[39m y \u001b[38;5;241m+\u001b[39m alpha\u001b[38;5;241m*\u001b[39md[\u001b[38;5;241m1\u001b[39m]\n\u001b[1;32m---> 23\u001b[0m \u001b[43mf_values\u001b[49m\u001b[38;5;241;43m.\u001b[39;49m\u001b[43mappend\u001b[49m\u001b[43m(\u001b[49m\u001b[43mf\u001b[49m\u001b[43m(\u001b[49m\u001b[43mx\u001b[49m\u001b[43m,\u001b[49m\u001b[43m \u001b[49m\u001b[43my\u001b[49m\u001b[43m,\u001b[49m\u001b[43mt\u001b[49m\u001b[43m)\u001b[49m\u001b[43m)\u001b[49m\n\u001b[0;32m     25\u001b[0m norm \u001b[38;5;241m=\u001b[39m L2Norm(x,y,t)\n\u001b[0;32m     26\u001b[0m count \u001b[38;5;241m=\u001b[39m count \u001b[38;5;241m+\u001b[39m \u001b[38;5;241m1\u001b[39m\n",
      "\u001b[1;31mMemoryError\u001b[0m: "
     ]
    }
   ],
   "source": [
    "for t in t :\n",
    "    x_cg ,y_cg ,f_cg, f_val_cg = cg(x_start , y_start ,t)\n",
    "    alpha_k = 2.0 / (3.0 - (9-(4*(t**2)))**0.5)\n",
    "    gradient_descent(x_start , y_start ,t, alpha_k)\n",
    "    log_errors_nagd = np.log10(np.abs(np.array(f_val_cg) - 0.6818181818181818 ) / 0.6818181818181818)\n",
    "\n",
    "    plt.figure(figsize=(10, 6))\n",
    "    plt.plot(log_errors_nagd, label=\"NAGD\", color=\"blue\")\n",
    "\n",
    "    plt.xlabel(\"Iterations\")\n",
    "    plt.ylabel(\"Log Error (log10(|f(x, y) - f_min|))\")\n",
    "    plt.title(\"Log Error vs Iterations\")\n",
    "    plt.legend()\n",
    "    plt.grid()\n",
    "    plt.show()"
   ]
  }
 ],
 "metadata": {
  "kernelspec": {
   "display_name": "Python 3",
   "language": "python",
   "name": "python3"
  },
  "language_info": {
   "codemirror_mode": {
    "name": "ipython",
    "version": 3
   },
   "file_extension": ".py",
   "mimetype": "text/x-python",
   "name": "python",
   "nbconvert_exporter": "python",
   "pygments_lexer": "ipython3",
   "version": "3.13.0"
  }
 },
 "nbformat": 4,
 "nbformat_minor": 2
}
