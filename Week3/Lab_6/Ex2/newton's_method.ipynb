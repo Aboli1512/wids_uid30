{
 "cells": [
  {
   "cell_type": "code",
   "execution_count": 10,
   "metadata": {},
   "outputs": [
    {
     "name": "stdout",
     "output_type": "stream",
     "text": [
      "Dimension: 1000, Time: 0.1599 seconds, L2 Norm Difference: 28.7546\n",
      "Dimension: 5000, Time: 10.5770 seconds, L2 Norm Difference: 69.3254\n",
      "Dimension: 10000, Time: 27.3749 seconds, L2 Norm Difference: 98.8945\n",
      "Dimension: 20000, Time: 415.3999 seconds, L2 Norm Difference: 140.5886\n",
      "Dimension: 25000, Time: 623.5029 seconds, L2 Norm Difference: 157.5001\n"
     ]
    },
    {
     "ename": "MemoryError",
     "evalue": "Unable to allocate 18.6 GiB for an array with shape (50000, 50000) and data type float64",
     "output_type": "error",
     "traceback": [
      "\u001b[1;31m---------------------------------------------------------------------------\u001b[0m",
      "\u001b[1;31mMemoryError\u001b[0m                               Traceback (most recent call last)",
      "Cell \u001b[1;32mIn[10], line 43\u001b[0m\n\u001b[0;32m     40\u001b[0m start \u001b[38;5;241m=\u001b[39m timeit\u001b[38;5;241m.\u001b[39mdefault_timer()\n\u001b[0;32m     42\u001b[0m \u001b[38;5;66;03m# Call Newton method with A, y, lambda and obtain the optimal solution x_opt\u001b[39;00m\n\u001b[1;32m---> 43\u001b[0m x_opt \u001b[38;5;241m=\u001b[39m \u001b[43mnewton_method\u001b[49m\u001b[43m(\u001b[49m\u001b[43mA\u001b[49m\u001b[43m,\u001b[49m\u001b[43m \u001b[49m\u001b[43my\u001b[49m\u001b[43m,\u001b[49m\u001b[43m \u001b[49m\u001b[43mlambda_reg\u001b[49m\u001b[43m)\u001b[49m\n\u001b[0;32m     45\u001b[0m newtontime \u001b[38;5;241m=\u001b[39m timeit\u001b[38;5;241m.\u001b[39mdefault_timer() \u001b[38;5;241m-\u001b[39m start  \u001b[38;5;66;03m# time is in seconds\u001b[39;00m\n\u001b[0;32m     47\u001b[0m \u001b[38;5;66;03m# Print the total time and the L2 norm difference || x_opt - xorig || for Newton method\u001b[39;00m\n",
      "Cell \u001b[1;32mIn[10], line 19\u001b[0m, in \u001b[0;36mnewton_method\u001b[1;34m(A, y, lambda_reg, tol, max_iter)\u001b[0m\n\u001b[0;32m     17\u001b[0m \u001b[38;5;28;01mfor\u001b[39;00m _ \u001b[38;5;129;01min\u001b[39;00m \u001b[38;5;28mrange\u001b[39m(max_iter):\n\u001b[0;32m     18\u001b[0m     grad \u001b[38;5;241m=\u001b[39m A\u001b[38;5;241m.\u001b[39mT \u001b[38;5;241m@\u001b[39m (A \u001b[38;5;241m@\u001b[39m x \u001b[38;5;241m-\u001b[39m y) \u001b[38;5;241m+\u001b[39m lambda_reg \u001b[38;5;241m*\u001b[39m x\n\u001b[1;32m---> 19\u001b[0m     hessian \u001b[38;5;241m=\u001b[39m \u001b[43mA\u001b[49m\u001b[38;5;241;43m.\u001b[39;49m\u001b[43mT\u001b[49m\u001b[43m \u001b[49m\u001b[38;5;241;43m@\u001b[39;49m\u001b[43m \u001b[49m\u001b[43mA\u001b[49m \u001b[38;5;241m+\u001b[39m lambda_reg \u001b[38;5;241m*\u001b[39m I\n\u001b[0;32m     20\u001b[0m     delta_x \u001b[38;5;241m=\u001b[39m np\u001b[38;5;241m.\u001b[39mlinalg\u001b[38;5;241m.\u001b[39msolve(hessian, \u001b[38;5;241m-\u001b[39mgrad)\n\u001b[0;32m     21\u001b[0m     x \u001b[38;5;241m=\u001b[39m x \u001b[38;5;241m+\u001b[39m delta_x\n",
      "\u001b[1;31mMemoryError\u001b[0m: Unable to allocate 18.6 GiB for an array with shape (50000, 50000) and data type float64"
     ]
    }
   ],
   "source": [
    "# Code for Newton method\n",
    "import numpy as np\n",
    "import timeit\n",
    "\n",
    "np.random.seed(10)  # for repeatability\n",
    "N = 200\n",
    "ds = [1000, 5000, 10000, 20000, 25000, 50000, 100000, 200000, 500000, 1000000]\n",
    "lambda_reg = 0.001\n",
    "eps = np.random.randn(N, 1)  # random noise\n",
    "\n",
    "# Define the Newton's method function\n",
    "def newton_method(A, y, lambda_reg, tol=1e-6, max_iter=100):\n",
    "    d = A.shape[1]\n",
    "    x = np.zeros((d, 1))\n",
    "    I = np.identity(d)\n",
    "    \n",
    "    for _ in range(max_iter):\n",
    "        grad = A.T @ (A @ x - y) + lambda_reg * x\n",
    "        hessian = A.T @ A + lambda_reg * I\n",
    "        delta_x = np.linalg.solve(hessian, -grad)\n",
    "        x = x + delta_x\n",
    "        \n",
    "        if np.linalg.norm(delta_x) < tol:\n",
    "            break\n",
    "    \n",
    "    return x\n",
    "\n",
    "# For each value of dimension in the ds array, we will check the behavior of Newton's method\n",
    "for i in range(np.size(ds)):\n",
    "    d = ds[i]\n",
    "    A = np.random.randn(N, d)\n",
    "    \n",
    "    # Normalize the columns\n",
    "    for j in range(A.shape[1]):\n",
    "        A[:, j] = A[:, j] / np.linalg.norm(A[:, j])\n",
    "    \n",
    "    xorig = np.ones((d, 1))\n",
    "    y = np.dot(A, xorig) + eps\n",
    "    \n",
    "    start = timeit.default_timer()\n",
    "    \n",
    "    # Call Newton method with A, y, lambda and obtain the optimal solution x_opt\n",
    "    x_opt = newton_method(A, y, lambda_reg)\n",
    "    \n",
    "    newtontime = timeit.default_timer() - start  # time is in seconds\n",
    "    \n",
    "    # Print the total time and the L2 norm difference || x_opt - xorig || for Newton method\n",
    "    l2_norm_diff = np.linalg.norm(x_opt - xorig)\n",
    "    print(f\"Dimension: {d}, Time: {newtontime:.4f} seconds, L2 Norm Difference: {l2_norm_diff:.4f}\")"
   ]
  },
  {
   "cell_type": "code",
   "execution_count": 11,
   "metadata": {},
   "outputs": [
    {
     "name": "stdout",
     "output_type": "stream",
     "text": [
      "BFGS Method - Dimension: 1000, Time: 8.1804 seconds, Residual: 837.2461, L2 Norm Difference: 30.8116\n",
      "BFGS Method - Dimension: 5000, Time: 686.5791 seconds, Residual: 2846.7071, L2 Norm Difference: 69.9209\n",
      "BFGS Method - Dimension: 10000, Time: 3962.6265 seconds, Residual: 3030.6079, L2 Norm Difference: 99.4245\n"
     ]
    },
    {
     "ename": "MemoryError",
     "evalue": "Unable to allocate 2.98 GiB for an array with shape (20000, 20000) and data type float64",
     "output_type": "error",
     "traceback": [
      "\u001b[1;31m---------------------------------------------------------------------------\u001b[0m",
      "\u001b[1;31mMemoryError\u001b[0m                               Traceback (most recent call last)",
      "Cell \u001b[1;32mIn[11], line 54\u001b[0m\n\u001b[0;32m     52\u001b[0m \u001b[38;5;66;03m# BFGS method\u001b[39;00m\n\u001b[0;32m     53\u001b[0m start \u001b[38;5;241m=\u001b[39m timeit\u001b[38;5;241m.\u001b[39mdefault_timer()\n\u001b[1;32m---> 54\u001b[0m x_opt_bfgs \u001b[38;5;241m=\u001b[39m \u001b[43mbfgs_method\u001b[49m\u001b[43m(\u001b[49m\u001b[43mA\u001b[49m\u001b[43m,\u001b[49m\u001b[43m \u001b[49m\u001b[43my\u001b[49m\u001b[43m,\u001b[49m\u001b[43m \u001b[49m\u001b[43mlambda_reg\u001b[49m\u001b[43m)\u001b[49m\n\u001b[0;32m     55\u001b[0m bfgstime \u001b[38;5;241m=\u001b[39m timeit\u001b[38;5;241m.\u001b[39mdefault_timer() \u001b[38;5;241m-\u001b[39m start  \u001b[38;5;66;03m# time is in seconds\u001b[39;00m\n\u001b[0;32m     57\u001b[0m \u001b[38;5;66;03m# Calculate and print results for BFGS method\u001b[39;00m\n",
      "Cell \u001b[1;32mIn[11], line 19\u001b[0m, in \u001b[0;36mbfgs_method\u001b[1;34m(A, y, lambda_reg, tol, max_iter)\u001b[0m\n\u001b[0;32m     17\u001b[0m \u001b[38;5;28;01mfor\u001b[39;00m _ \u001b[38;5;129;01min\u001b[39;00m \u001b[38;5;28mrange\u001b[39m(max_iter):\n\u001b[0;32m     18\u001b[0m     grad \u001b[38;5;241m=\u001b[39m A\u001b[38;5;241m.\u001b[39mT \u001b[38;5;241m@\u001b[39m (A \u001b[38;5;241m@\u001b[39m x \u001b[38;5;241m-\u001b[39m y) \u001b[38;5;241m+\u001b[39m lambda_reg \u001b[38;5;241m*\u001b[39m x\n\u001b[1;32m---> 19\u001b[0m     p \u001b[38;5;241m=\u001b[39m \u001b[38;5;241;43m-\u001b[39;49m\u001b[43mH\u001b[49m \u001b[38;5;241m@\u001b[39m grad\n\u001b[0;32m     20\u001b[0m     alpha \u001b[38;5;241m=\u001b[39m \u001b[38;5;241m1e-3\u001b[39m  \u001b[38;5;66;03m# You may need to implement a proper line search for alpha\u001b[39;00m\n\u001b[0;32m     22\u001b[0m     s \u001b[38;5;241m=\u001b[39m alpha \u001b[38;5;241m*\u001b[39m p\n",
      "\u001b[1;31mMemoryError\u001b[0m: Unable to allocate 2.98 GiB for an array with shape (20000, 20000) and data type float64"
     ]
    }
   ],
   "source": [
    "import numpy as np\n",
    "import timeit\n",
    "\n",
    "np.random.seed(1000)  # for repeatability\n",
    "N = 200\n",
    "ds = [1000, 5000, 10000, 20000, 25000, 50000, 100000, 200000, 500000, 1000000]\n",
    "lambda_reg = 0.001\n",
    "eps = np.random.randn(N, 1)  # random noise\n",
    "\n",
    "# Define the BFGS method function\n",
    "def bfgs_method(A, y, lambda_reg, tol=1e-6, max_iter=100):\n",
    "    d = A.shape[1]\n",
    "    x = np.zeros((d, 1))\n",
    "    I = np.identity(d)\n",
    "    H = I\n",
    "    \n",
    "    for _ in range(max_iter):\n",
    "        grad = A.T @ (A @ x - y) + lambda_reg * x\n",
    "        p = -H @ grad\n",
    "        alpha = 1e-3  # You may need to implement a proper line search for alpha\n",
    "\n",
    "        s = alpha * p\n",
    "        x_new = x + s\n",
    "\n",
    "        yk = A.T @ (A @ x_new - y) + lambda_reg * x_new - grad\n",
    "        skT_yk = s.T @ yk\n",
    "\n",
    "        if np.abs(skT_yk) < tol:\n",
    "            break\n",
    "\n",
    "        H = H + (skT_yk + yk.T @ H @ yk) * (s @ s.T) / (skT_yk ** 2) - (H @ yk @ s.T + s @ yk.T @ H) / skT_yk\n",
    "        x = x_new\n",
    "\n",
    "        if np.linalg.norm(grad) < tol:\n",
    "            break\n",
    "    \n",
    "    return x\n",
    "\n",
    "# For each value of dimension in the ds array, we will check the behavior of both methods\n",
    "for i in range(np.size(ds)):\n",
    "    d = ds[i]\n",
    "    A = np.random.randn(N, d)\n",
    "    \n",
    "    # Normalize the columns\n",
    "    for j in range(A.shape[1]):\n",
    "        A[:, j] = A[:, j] / np.linalg.norm(A[:, j])\n",
    "    \n",
    "    xorig = np.ones((d, 1))\n",
    "    y = np.dot(A, xorig) + eps\n",
    "    \n",
    "    \n",
    "    # BFGS method\n",
    "    start = timeit.default_timer()\n",
    "    x_opt_bfgs = bfgs_method(A, y, lambda_reg)\n",
    "    bfgstime = timeit.default_timer() - start  # time is in seconds\n",
    "    \n",
    "    # Calculate and print results for BFGS method\n",
    "    norm_diff_bfgs = np.linalg.norm(x_opt_bfgs - xorig)\n",
    "    residual_bfgs = np.linalg.norm(A @ x_opt_bfgs - y) ** 2\n",
    "    print(f\"BFGS Method - Dimension: {d}, Time: {bfgstime:.4f} seconds, Residual: {residual_bfgs:.4f}, L2 Norm Difference: {norm_diff_bfgs:.4f}\")"
   ]
  }
 ],
 "metadata": {
  "kernelspec": {
   "display_name": "Python 3",
   "language": "python",
   "name": "python3"
  },
  "language_info": {
   "codemirror_mode": {
    "name": "ipython",
    "version": 3
   },
   "file_extension": ".py",
   "mimetype": "text/x-python",
   "name": "python",
   "nbconvert_exporter": "python",
   "pygments_lexer": "ipython3",
   "version": "3.13.0"
  }
 },
 "nbformat": 4,
 "nbformat_minor": 2
}
