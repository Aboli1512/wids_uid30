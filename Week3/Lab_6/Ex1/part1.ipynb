{
 "cells": [
  {
   "cell_type": "code",
   "execution_count": 1,
   "metadata": {},
   "outputs": [
    {
     "name": "stdout",
     "output_type": "stream",
     "text": [
      "(1797, 64)\n",
      "(1797,)\n",
      "(1797, 1)\n"
     ]
    }
   ],
   "source": [
    "import numpy as np\n",
    "from sklearn.datasets import load_digits\n",
    "digits = load_digits()\n",
    " #check the shape of digits data\n",
    "print(digits.data.shape)\n",
    " #check the shape of digits target\n",
    "print(digits.target.shape)\n",
    " #let us use the linear regression used in the previous lab\n",
    " #N = digits.data.shape[0] #Number of data points\n",
    " #d = digits.data.shape[1] #Dimension of data points\n",
    "A = digits.data\n",
    " #In the following code, we create a NX1 vector of target labels\n",
    "y = 1.0*np.ones([A.shape[0],1])\n",
    "for i in range(digits.target.shape[0]):\n",
    "   y[i] = digits.target[i]\n",
    "print(y.shape)"
   ]
  },
  {
   "cell_type": "code",
   "execution_count": 2,
   "metadata": {},
   "outputs": [],
   "source": [
    "def f(x,y,A) :\n",
    "    return 0.5*((A@x - y).T @ (A@x - y))\n",
    "\n"
   ]
  },
  {
   "cell_type": "code",
   "execution_count": 3,
   "metadata": {},
   "outputs": [],
   "source": [
    "def grad_f(x,y,A) :\n",
    "    return A.T @ (A@x - y)\n",
    "\n",
    "def double_grad_f(x,y,A) :\n",
    "    return A.T @ A"
   ]
  },
  {
   "cell_type": "code",
   "execution_count": 4,
   "metadata": {},
   "outputs": [],
   "source": [
    "def hess_inv(x, y, A):\n",
    "    hessian_matrix = double_grad_f(x, y, A)\n",
    "    if np.linalg.cond(hessian_matrix) < 1 / np.finfo(hessian_matrix.dtype).eps:\n",
    "        return np.linalg.inv(hessian_matrix)\n",
    "    else:\n",
    "        return np.linalg.pinv(hessian_matrix)"
   ]
  },
  {
   "cell_type": "code",
   "execution_count": 5,
   "metadata": {},
   "outputs": [],
   "source": [
    "def sub_term(x,y,A) :\n",
    "    return np.dot(hess_inv(x,y,A), (grad_f(x,y,A)))"
   ]
  },
  {
   "cell_type": "code",
   "execution_count": 6,
   "metadata": {},
   "outputs": [],
   "source": [
    "def L2Norm(x,y,A) :\n",
    "    return np.linalg.norm(grad_f(x,y,A))"
   ]
  },
  {
   "cell_type": "code",
   "execution_count": 7,
   "metadata": {},
   "outputs": [],
   "source": [
    "def gradient_descent(x_start,y,A) :\n",
    "\n",
    "    x = x_start\n",
    "    count = 0\n",
    "    norm = L2Norm(x,y,A)\n",
    "    TLevel = 10**(-15)\n",
    "\n",
    "    while(norm > TLevel) :\n",
    "        \n",
    "\n",
    "        term_sub = sub_term(x,y,A)\n",
    "\n",
    "        x = x - term_sub\n",
    "\n",
    "\n",
    "        norm = L2Norm(x,y,A)\n",
    "        count = count + 1\n",
    "    \n",
    "    print(f\"Iterations: {count}\")\n",
    "    print(x,f(x,y))\n",
    "    \n",
    "    return x,y,f(x,y,A)"
   ]
  },
  {
   "cell_type": "code",
   "execution_count": 8,
   "metadata": {},
   "outputs": [
    {
     "ename": "KeyboardInterrupt",
     "evalue": "",
     "output_type": "error",
     "traceback": [
      "\u001b[1;31m---------------------------------------------------------------------------\u001b[0m",
      "\u001b[1;31mKeyboardInterrupt\u001b[0m                         Traceback (most recent call last)",
      "Cell \u001b[1;32mIn[8], line 3\u001b[0m\n\u001b[0;32m      1\u001b[0m x0 \u001b[38;5;241m=\u001b[39m np\u001b[38;5;241m.\u001b[39mzeros((\u001b[38;5;241m64\u001b[39m,\u001b[38;5;241m1\u001b[39m))\n\u001b[1;32m----> 3\u001b[0m x_dash \u001b[38;5;241m=\u001b[39m \u001b[43mgradient_descent\u001b[49m\u001b[43m(\u001b[49m\u001b[43mx0\u001b[49m\u001b[43m,\u001b[49m\u001b[43my\u001b[49m\u001b[43m,\u001b[49m\u001b[43mA\u001b[49m\u001b[43m)\u001b[49m\n\u001b[0;32m      5\u001b[0m \u001b[38;5;28mprint\u001b[39m(x_dash)\n",
      "Cell \u001b[1;32mIn[7], line 11\u001b[0m, in \u001b[0;36mgradient_descent\u001b[1;34m(x_start, y, A)\u001b[0m\n\u001b[0;32m      6\u001b[0m TLevel \u001b[38;5;241m=\u001b[39m \u001b[38;5;241m10\u001b[39m\u001b[38;5;241m*\u001b[39m\u001b[38;5;241m*\u001b[39m(\u001b[38;5;241m-\u001b[39m\u001b[38;5;241m15\u001b[39m)\n\u001b[0;32m      8\u001b[0m \u001b[38;5;28;01mwhile\u001b[39;00m(norm \u001b[38;5;241m>\u001b[39m TLevel) :\n\u001b[1;32m---> 11\u001b[0m     term_sub \u001b[38;5;241m=\u001b[39m \u001b[43msub_term\u001b[49m\u001b[43m(\u001b[49m\u001b[43mx\u001b[49m\u001b[43m,\u001b[49m\u001b[43my\u001b[49m\u001b[43m,\u001b[49m\u001b[43mA\u001b[49m\u001b[43m)\u001b[49m\n\u001b[0;32m     13\u001b[0m     x \u001b[38;5;241m=\u001b[39m x \u001b[38;5;241m-\u001b[39m term_sub\n\u001b[0;32m     16\u001b[0m     norm \u001b[38;5;241m=\u001b[39m L2Norm(x,y,A)\n",
      "Cell \u001b[1;32mIn[5], line 2\u001b[0m, in \u001b[0;36msub_term\u001b[1;34m(x, y, A)\u001b[0m\n\u001b[0;32m      1\u001b[0m \u001b[38;5;28;01mdef\u001b[39;00m \u001b[38;5;21msub_term\u001b[39m(x,y,A) :\n\u001b[1;32m----> 2\u001b[0m     \u001b[38;5;28;01mreturn\u001b[39;00m np\u001b[38;5;241m.\u001b[39mdot(\u001b[43mhess_inv\u001b[49m\u001b[43m(\u001b[49m\u001b[43mx\u001b[49m\u001b[43m,\u001b[49m\u001b[43my\u001b[49m\u001b[43m,\u001b[49m\u001b[43mA\u001b[49m\u001b[43m)\u001b[49m, (grad_f(x,y,A)))\n",
      "Cell \u001b[1;32mIn[4], line 3\u001b[0m, in \u001b[0;36mhess_inv\u001b[1;34m(x, y, A)\u001b[0m\n\u001b[0;32m      1\u001b[0m \u001b[38;5;28;01mdef\u001b[39;00m \u001b[38;5;21mhess_inv\u001b[39m(x, y, A):\n\u001b[0;32m      2\u001b[0m     hessian_matrix \u001b[38;5;241m=\u001b[39m double_grad_f(x, y, A)\n\u001b[1;32m----> 3\u001b[0m     \u001b[38;5;28;01mif\u001b[39;00m \u001b[43mnp\u001b[49m\u001b[38;5;241;43m.\u001b[39;49m\u001b[43mlinalg\u001b[49m\u001b[38;5;241;43m.\u001b[39;49m\u001b[43mcond\u001b[49m\u001b[43m(\u001b[49m\u001b[43mhessian_matrix\u001b[49m\u001b[43m)\u001b[49m \u001b[38;5;241m<\u001b[39m \u001b[38;5;241m1\u001b[39m \u001b[38;5;241m/\u001b[39m np\u001b[38;5;241m.\u001b[39mfinfo(hessian_matrix\u001b[38;5;241m.\u001b[39mdtype)\u001b[38;5;241m.\u001b[39meps:\n\u001b[0;32m      4\u001b[0m         \u001b[38;5;28;01mreturn\u001b[39;00m np\u001b[38;5;241m.\u001b[39mlinalg\u001b[38;5;241m.\u001b[39minv(hessian_matrix)\n\u001b[0;32m      5\u001b[0m     \u001b[38;5;28;01melse\u001b[39;00m:\n",
      "File \u001b[1;32m~\\AppData\\Roaming\\Python\\Python313\\site-packages\\numpy\\linalg\\_linalg.py:1908\u001b[0m, in \u001b[0;36m_cond_dispatcher\u001b[1;34m(x, p)\u001b[0m\n\u001b[0;32m   1860\u001b[0m \u001b[38;5;250m    \u001b[39m\u001b[38;5;124;03m\"\"\"\u001b[39;00m\n\u001b[0;32m   1861\u001b[0m \u001b[38;5;124;03m    Returns the singular values of a matrix (or a stack of matrices) ``x``.\u001b[39;00m\n\u001b[0;32m   1862\u001b[0m \u001b[38;5;124;03m    When x is a stack of matrices, the function will compute the singular\u001b[39;00m\n\u001b[1;32m   (...)\u001b[0m\n\u001b[0;32m   1903\u001b[0m \n\u001b[0;32m   1904\u001b[0m \u001b[38;5;124;03m    \"\"\"\u001b[39;00m\n\u001b[0;32m   1905\u001b[0m     \u001b[38;5;28;01mreturn\u001b[39;00m svd(x, compute_uv\u001b[38;5;241m=\u001b[39m\u001b[38;5;28;01mFalse\u001b[39;00m, hermitian\u001b[38;5;241m=\u001b[39m\u001b[38;5;28;01mFalse\u001b[39;00m)\n\u001b[1;32m-> 1908\u001b[0m \u001b[38;5;28;01mdef\u001b[39;00m \u001b[38;5;21m_cond_dispatcher\u001b[39m(x, p\u001b[38;5;241m=\u001b[39m\u001b[38;5;28;01mNone\u001b[39;00m):\n\u001b[0;32m   1909\u001b[0m     \u001b[38;5;28;01mreturn\u001b[39;00m (x,)\n\u001b[0;32m   1912\u001b[0m \u001b[38;5;129m@array_function_dispatch\u001b[39m(_cond_dispatcher)\n\u001b[0;32m   1913\u001b[0m \u001b[38;5;28;01mdef\u001b[39;00m \u001b[38;5;21mcond\u001b[39m(x, p\u001b[38;5;241m=\u001b[39m\u001b[38;5;28;01mNone\u001b[39;00m):\n",
      "\u001b[1;31mKeyboardInterrupt\u001b[0m: "
     ]
    }
   ],
   "source": [
    "x0 = np.zeros((64,1))\n",
    "\n",
    "x_dash = gradient_descent(x0,y,A)\n",
    "\n",
    "print(x_dash)"
   ]
  },
  {
   "cell_type": "code",
   "execution_count": null,
   "metadata": {},
   "outputs": [],
   "source": [
    "def g(x,y,A,lambdaa) :\n",
    "    return 0.5*((A@x - y).T @ (A@x - y)) + 0.5*lambdaa*(x.T @ x)  "
   ]
  },
  {
   "cell_type": "code",
   "execution_count": null,
   "metadata": {},
   "outputs": [],
   "source": [
    "def grad_f(x,y,A,lambdaa) :\n",
    "    return (A.T @ (A@x - y)) + lambdaa*x\n",
    "\n",
    "def double_grad_f(x,y,A,lambdaa) :\n",
    "    return A.T @ A + lambdaa*np.identity(64)\n",
    "\n",
    "def hess_inv(x, y, A,lambdaa):\n",
    "    hessian_matrix = double_grad_f(x, y, A,lambdaa)\n",
    "    if np.linalg.cond(hessian_matrix) < 1 / np.finfo(hessian_matrix.dtype).eps:\n",
    "        return np.linalg.inv(hessian_matrix)\n",
    "    else:\n",
    "        return np.linalg.pinv(hessian_matrix)\n",
    "\n",
    "def sub_term(x,y,A,lambdaa) :\n",
    "    return np.dot(hess_inv(x,y,A,lambdaa), (grad_f(x,y,A,lambdaa)))\n",
    "\n",
    "def L2Norm(x,y,A,lambdaa) :\n",
    "    return np.linalg.norm(grad_f(x,y,A,lambdaa))"
   ]
  },
  {
   "cell_type": "code",
   "execution_count": null,
   "metadata": {},
   "outputs": [],
   "source": [
    "def gradient_descent_reg(x_start,y,A,lambdaa) :\n",
    "\n",
    "    x = x_start\n",
    "    count = 0\n",
    "    norm = L2Norm(x,y,A)\n",
    "    TLevel = 10**(-15)\n",
    "\n",
    "    while(norm > TLevel) :\n",
    "        \n",
    "\n",
    "        term_sub = sub_term(x,y,A,lambdaa)\n",
    "\n",
    "        x = x - term_sub\n",
    "\n",
    "\n",
    "        norm = L2Norm(x,y,A,lambdaa)\n",
    "        count = count + 1\n",
    "    \n",
    "    print(f\"Iterations: {count}\")\n",
    "    print(x,f(x,y))\n",
    "    \n",
    "    return x,y,f(x,y,A)"
   ]
  },
  {
   "cell_type": "code",
   "execution_count": null,
   "metadata": {},
   "outputs": [],
   "source": [
    "lambdaa = 0.001\n",
    "\n",
    "x_dash_reg = gradient_descent_reg(x0,y,A,lambdaa)\n",
    "\n"
   ]
  }
 ],
 "metadata": {
  "kernelspec": {
   "display_name": "Python 3",
   "language": "python",
   "name": "python3"
  },
  "language_info": {
   "codemirror_mode": {
    "name": "ipython",
    "version": 3
   },
   "file_extension": ".py",
   "mimetype": "text/x-python",
   "name": "python",
   "nbconvert_exporter": "python",
   "pygments_lexer": "ipython3",
   "version": "3.13.0"
  }
 },
 "nbformat": 4,
 "nbformat_minor": 2
}
