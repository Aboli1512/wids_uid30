{
 "cells": [
  {
   "cell_type": "code",
   "execution_count": null,
   "metadata": {},
   "outputs": [],
   "source": [
    " import numpy as np\n",
    " #we will load the iris data from scikit-learn package\n",
    " from sklearn.datasets import load_iris\n",
    " iris = load_iris()\n",
    " #check the shape of iris data\n",
    " print(iris.data.shape)\n",
    " A = iris.data\n",
    " #check the shape of iris target\n",
    " print(iris.target.shape)\n",
    " #How many labels does iris data have?\n",
    " #C=num_of_classes\n",
    " #print(C)\n",
    " n = iris.data.shape[0] #Number of data points\n",
    " d = iris.data.shape[1] #Dimension of data points\n",
    " #In the following code, we create a nx1 vector of target labels\n",
    " y = 1.0*np.ones([A.shape[0],])\n",
    " for i in range(iris.target.shape[0]):\n",
    " # y[i] = ???? # Convert class labels that are not 1 into-1\n",
    " #Create an index array\n",
    " indexarr = np.arange(n) #index array\n",
    " np.random.shuffle(indexarr) #shuffle the indices\n",
    " #print(indexarr) #check indexarr after shuffling\n",
    " #Use the first 80% of indexarr to create the train data and the remaining\n",
    " 20% to create the test data\n",
    " #train_data = ????\n",
    " #train_label = ????\n",
    " #test_data = ????\n",
    " #test_label = ????"
   ]
  },
  {
   "cell_type": "code",
   "execution_count": 61,
   "metadata": {},
   "outputs": [
    {
     "name": "stdout",
     "output_type": "stream",
     "text": [
      "(150, 4)\n",
      "(150,)\n",
      "No. of Classes: 3\n",
      "Accuracy: 0.6\n"
     ]
    }
   ],
   "source": [
    "import numpy as np\n",
    "from sklearn.datasets import load_iris\n",
    "\n",
    "# Load the iris data from scikit-learn package\n",
    "iris = load_iris()\n",
    "\n",
    "# Check the shape of iris data\n",
    "print(iris.data.shape)\n",
    "A = iris.data\n",
    "\n",
    "# Check the shape of iris target\n",
    "print(iris.target.shape)\n",
    "\n",
    "# How many labels does iris data have?\n",
    "C = len(np.unique(iris.target))\n",
    "print(f\"No. of Classes: {C}\")\n",
    "\n",
    "# Number of data points\n",
    "n = iris.data.shape[0]\n",
    "\n",
    "# Dimension of data points\n",
    "d = iris.data.shape[1]\n",
    "\n",
    "# Create a nx1 vector of target labels\n",
    "y = 1.0 * np.ones([A.shape[0],])\n",
    "for i in range(iris.target.shape[0]):\n",
    "    if iris.target[i] != 1:\n",
    "        y[i] = -1\n",
    "\n",
    "# Create an index array\n",
    "indexarr = np.arange(n)\n",
    "np.random.shuffle(indexarr)\n",
    "\n",
    "# Use the first 80% of indexarr to create the train data and the remaining 20% to create the test data\n",
    "train_size = int(0.8 * n)\n",
    "train_indices = indexarr[:train_size]\n",
    "test_indices = indexarr[train_size:]\n",
    "\n",
    "train_data = A[train_indices]\n",
    "train_label = y[train_indices]\n",
    "test_data = A[test_indices]\n",
    "test_label = y[test_indices]\n",
    "\n",
    "# Prediction function\n",
    "def predict(w, x):\n",
    "    return np.sign(np.dot(x, w))\n",
    "\n",
    "# Accuracy computation function\n",
    "def compute_accuracy(data, labels, model_w):\n",
    "    predictions = predict(model_w, data)\n",
    "    accuracy = np.mean(predictions == labels)\n",
    "    return accuracy\n",
    "\n",
    "# Assuming model_w is some weight vector, for example:\n",
    "model_w = np.random.randn(d)\n",
    "accuracy = compute_accuracy(test_data, test_label, model_w)\n",
    "print(f\"Accuracy: {accuracy}\")"
   ]
  },
  {
   "cell_type": "code",
   "execution_count": null,
   "metadata": {},
   "outputs": [],
   "source": []
  }
 ],
 "metadata": {
  "kernelspec": {
   "display_name": "Python 3",
   "language": "python",
   "name": "python3"
  },
  "language_info": {
   "codemirror_mode": {
    "name": "ipython",
    "version": 3
   },
   "file_extension": ".py",
   "mimetype": "text/x-python",
   "name": "python",
   "nbconvert_exporter": "python",
   "pygments_lexer": "ipython3",
   "version": "3.13.0"
  }
 },
 "nbformat": 4,
 "nbformat_minor": 2
}
